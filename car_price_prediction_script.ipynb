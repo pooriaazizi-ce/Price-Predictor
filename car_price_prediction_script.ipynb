{
 "cells": [
  {
   "cell_type": "code",
   "execution_count": 1,
   "outputs": [],
   "source": [
    "# Import librarys\n",
    "import joblib"
   ],
   "metadata": {
    "collapsed": false,
    "pycharm": {
     "name": "#%%\n"
    }
   }
  },
  {
   "cell_type": "code",
   "execution_count": 2,
   "outputs": [],
   "source": [
    "# Load the saved model\n",
    "model = joblib.load('car_price_prediction_model.pkl')"
   ],
   "metadata": {
    "collapsed": false,
    "pycharm": {
     "name": "#%%\n"
    }
   }
  },
  {
   "cell_type": "code",
   "execution_count": 3,
   "outputs": [],
   "source": [
    "# Function to predict car price based on input features\n",
    "def predict_car_price(car_features):\n",
    "\n",
    "    # Perform the prediction\n",
    "    predicted_price = model.predict(car_features)\n",
    "\n",
    "    return predicted_price"
   ],
   "metadata": {
    "collapsed": false,
    "pycharm": {
     "name": "#%%\n"
    }
   }
  },
  {
   "cell_type": "code",
   "execution_count": 4,
   "outputs": [
    {
     "name": "stdout",
     "output_type": "stream",
     "text": [
      "Predicted Price: [294.14168215] Million Toman\n"
     ]
    }
   ],
   "source": [
    "''' ['Third -party insurance deadline', 'Color', 'Engine status',\n",
    "        'Model (year of production)', 'The state of chassis', 'Function', 'Body condition']'''\n",
    "\n",
    "car_features = [[5,10,0,1390,0,162000,0]]\n",
    "\n",
    "predicted_price = predict_car_price(car_features)\n",
    "\n",
    "print(f\"Predicted Price: {predicted_price} Million Toman\")"
   ],
   "metadata": {
    "collapsed": false,
    "pycharm": {
     "name": "#%%\n"
    }
   }
  },
  {
   "cell_type": "code",
   "execution_count": null,
   "outputs": [],
   "source": [],
   "metadata": {
    "collapsed": false,
    "pycharm": {
     "name": "#%%\n"
    }
   }
  }
 ],
 "metadata": {
  "kernelspec": {
   "display_name": "Python 3",
   "language": "python",
   "name": "python3"
  },
  "language_info": {
   "codemirror_mode": {
    "name": "ipython",
    "version": 2
   },
   "file_extension": ".py",
   "mimetype": "text/x-python",
   "name": "python",
   "nbconvert_exporter": "python",
   "pygments_lexer": "ipython2",
   "version": "2.7.6"
  }
 },
 "nbformat": 4,
 "nbformat_minor": 0
}